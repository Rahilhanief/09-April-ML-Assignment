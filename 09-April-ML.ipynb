{
 "cells": [
  {
   "cell_type": "code",
   "execution_count": 1,
   "id": "2a239ad8-f0a3-480b-8978-656f926ba3f6",
   "metadata": {},
   "outputs": [
    {
     "data": {
      "text/plain": [
       "\"\\nBayes' Theorem states that the conditional probability of an event, based on the occurrence of another event, \\nis equal to the likelihood of the second event given the first event multiplied by the probability of the first event.\\n\""
      ]
     },
     "execution_count": 1,
     "metadata": {},
     "output_type": "execute_result"
    }
   ],
   "source": [
    "## Q No. 1 :\n",
    "\"\"\"\n",
    "Bayes' Theorem states that the conditional probability of an event, based on the occurrence of another event, \n",
    "is equal to the likelihood of the second event given the first event multiplied by the probability of the first event.\n",
    "\"\"\""
   ]
  },
  {
   "cell_type": "code",
   "execution_count": 2,
   "id": "27094708-9028-44d1-a1bc-095dd1fb051f",
   "metadata": {},
   "outputs": [
    {
     "data": {
      "text/plain": [
       "'\\nThe formula for Bayes theorem is:\\nP(A/B)= [P(B/A). P(A)]/P(B)\\nWhere P(A) and P(B) are the probabilities of events A and B.\\nP(A/B) is the probability of event A given B\\nP(B/A) is the probability of event B given A\\n'"
      ]
     },
     "execution_count": 2,
     "metadata": {},
     "output_type": "execute_result"
    }
   ],
   "source": [
    "## Q No. 2 :\n",
    "\"\"\"\n",
    "The formula for Bayes theorem is:\n",
    "P(A/B)= [P(B/A). P(A)]/P(B)\n",
    "Where P(A) and P(B) are the probabilities of events A and B.\n",
    "P(A/B) is the probability of event A given B\n",
    "P(B/A) is the probability of event B given A\n",
    "\"\"\""
   ]
  },
  {
   "cell_type": "code",
   "execution_count": 3,
   "id": "35ed24bc-c6fd-4604-b4f0-f625a92aa729",
   "metadata": {},
   "outputs": [
    {
     "data": {
      "text/plain": [
       "\"\\nBayes' Theorem thus gives the probability of an event based on new information that is, or may be, \\nrelated to that event. The formula can also be used to determine how the probability of an event occurring\\nmay be affected by hypothetical new information, supposing the new information will turn out to be true.\\n\""
      ]
     },
     "execution_count": 3,
     "metadata": {},
     "output_type": "execute_result"
    }
   ],
   "source": [
    "## Q No. 3 :\n",
    "\"\"\"\n",
    "Bayes' Theorem thus gives the probability of an event based on new information that is, or may be, \n",
    "related to that event. The formula can also be used to determine how the probability of an event occurring\n",
    "may be affected by hypothetical new information, supposing the new information will turn out to be true.\n",
    "\"\"\""
   ]
  },
  {
   "cell_type": "code",
   "execution_count": 5,
   "id": "aac3cc03-c657-42d9-aee9-f1b094f89430",
   "metadata": {},
   "outputs": [
    {
     "data": {
      "text/plain": [
       "'\\nConditional Probability is the probability of occurrence of a certain event, say A, based on some other\\nevent whether B is true or not. Bayes Theorem includes two conditional probabilities for the events, say A and B. \\nIt is used to compute the conditional probability and the events AandBare relatively simple.\\n'"
      ]
     },
     "execution_count": 5,
     "metadata": {},
     "output_type": "execute_result"
    }
   ],
   "source": [
    "## Q No. 4 :\n",
    "\"\"\"\n",
    "Conditional Probability is the probability of occurrence of a certain event, say A, based on some other\n",
    "event whether B is true or not. Bayes Theorem includes two conditional probabilities for the events, say A and B. \n",
    "It is used to compute the conditional probability and the events AandBare relatively simple.\n",
    "\"\"\""
   ]
  },
  {
   "cell_type": "code",
   "execution_count": 6,
   "id": "0a73ced7-7095-4de9-9eb4-898bb41f2507",
   "metadata": {},
   "outputs": [
    {
     "data": {
      "text/plain": [
       "'\\nThere are three types of Naive Bayes Model, which are given below:\\n\\nGaussian: The Gaussian model assumes that features follow a normal distribution.\\nThis means if predictors take continuous values instead of discrete, then the model assumes that these \\nvalues are sampled from the Gaussian distribution.\\n\\nMultinomial: The Multinomial Naïve Bayes classifier is used when the data is multinomial distributed.\\nIt is primarily used for document classification problems, it means a particular document belongs to \\nwhich category such as Sports, Politics, education, etc.\\nThe classifier uses the frequency of words for the predictors.\\n\\nBernoulli: The Bernoulli classifier works similar to the Multinomial classifier, but the predictor variables\\nare the independent Booleans variables. Such as if a particular word is present or not in a document.\\nThis model is also famous for document classification tasks.\\n'"
      ]
     },
     "execution_count": 6,
     "metadata": {},
     "output_type": "execute_result"
    }
   ],
   "source": [
    "## Q No. 5 :\n",
    "\"\"\"\n",
    "There are three types of Naive Bayes Model, which are given below:\n",
    "\n",
    "Gaussian: The Gaussian model assumes that features follow a normal distribution.\n",
    "This means if predictors take continuous values instead of discrete, then the model assumes that these \n",
    "values are sampled from the Gaussian distribution.\n",
    "\n",
    "Multinomial: The Multinomial Naïve Bayes classifier is used when the data is multinomial distributed.\n",
    "It is primarily used for document classification problems, it means a particular document belongs to \n",
    "which category such as Sports, Politics, education, etc.\n",
    "The classifier uses the frequency of words for the predictors.\n",
    "\n",
    "Bernoulli: The Bernoulli classifier works similar to the Multinomial classifier, but the predictor variables\n",
    "are the independent Booleans variables. Such as if a particular word is present or not in a document.\n",
    "This model is also famous for document classification tasks.\n",
    "\"\"\""
   ]
  },
  {
   "cell_type": "code",
   "execution_count": 7,
   "id": "41cd69f0-ace2-4e6b-aada-a83832583ce5",
   "metadata": {},
   "outputs": [],
   "source": [
    "## Q No 6 :\n",
    "# Class A"
   ]
  }
 ],
 "metadata": {
  "kernelspec": {
   "display_name": "Python 3 (ipykernel)",
   "language": "python",
   "name": "python3"
  },
  "language_info": {
   "codemirror_mode": {
    "name": "ipython",
    "version": 3
   },
   "file_extension": ".py",
   "mimetype": "text/x-python",
   "name": "python",
   "nbconvert_exporter": "python",
   "pygments_lexer": "ipython3",
   "version": "3.10.8"
  }
 },
 "nbformat": 4,
 "nbformat_minor": 5
}
